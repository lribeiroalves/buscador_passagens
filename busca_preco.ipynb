{
 "cells": [
  {
   "cell_type": "code",
   "execution_count": 151,
   "metadata": {},
   "outputs": [],
   "source": [
    "from selenium import webdriver\n",
    "from selenium.webdriver.chrome.options import Options\n",
    "from selenium.webdriver.common.keys import Keys \n",
    "from selenium.webdriver.common.action_chains import ActionChains\n",
    "import time"
   ]
  },
  {
   "cell_type": "code",
   "execution_count": 152,
   "metadata": {},
   "outputs": [],
   "source": [
    "destino = 'Londres'\n",
    "data_inicio = '01/02/2024'\n",
    "data_fim = '01/02/2024'\n",
    "periodo_dias = '7'\n",
    "\n",
    "# destino = input('Qual o destino da viagem? ')\n",
    "# data_inicio = input('Qual a primeira data? ')\n",
    "# data_fim = input('Qual a data final? ')\n",
    "# periodo_dias = input('Qual o tempo da viagem? ')\n",
    "data_periodo = f'{str(int(data_inicio[:2]) + int(periodo_dias)).zfill(2)}{data_inicio[2:]}'"
   ]
  },
  {
   "cell_type": "code",
   "execution_count": 153,
   "metadata": {},
   "outputs": [],
   "source": [
    "options_chrome = Options()\n",
    "options_chrome.add_argument('--window-size=1920,1080')\n",
    "options_chrome.add_argument('--incognito')\n",
    "options_chrome.add_argument('--headless')\n",
    "\n",
    "chrome = webdriver.Chrome(options=options_chrome)\n",
    "chrome.maximize_window()\n",
    "chrome.implicitly_wait(5)\n",
    "# chrome.get('https://www.google.com/travel/flights?tfs=CBwQARoJagcIARIDR1JVGglyBwgBEgNHUlVAAUgBcAGCAQsI____________AZgBAQ&tfu=KgIIAw')\n",
    "chrome.get('https://www.google.com/travel/flights/search?tfs=CBwQAhojEgoyMDI0LTAyLTAxagcIARIDR1JVcgwIAxIIL20vMDVxdGoaIxIKMjAyNC0wMi0wOGoMCAMSCC9tLzA1cXRqcgcIARIDR1JVQAFIAXABggELCP___________wGYAQE&tfu=KgA')\n",
    "actions = ActionChains(chrome)\n"
   ]
  },
  {
   "cell_type": "code",
   "execution_count": 154,
   "metadata": {},
   "outputs": [],
   "source": [
    "caixa_destino = chrome.find_element('xpath', '//*[@id=\"i21\"]/div[4]/div/div/div[1]/div/div/input')\n",
    "caixa_destino.clear()\n",
    "caixa_destino.send_keys(destino)\n",
    "time.sleep(1)\n",
    "actions.send_keys(Keys.ENTER)\n",
    "actions.perform()\n",
    "# chrome.find_element('xpath', '//*[@id=\"c57\"]').click()"
   ]
  },
  {
   "cell_type": "code",
   "execution_count": 155,
   "metadata": {},
   "outputs": [
    {
     "ename": "ElementNotInteractableException",
     "evalue": "Message: element not interactable\n  (Session info: headless chrome=117.0.5938.150)\nStacktrace:\n\tGetHandleVerifier [0x00007FF69D997D12+55474]\n\t(No symbol) [0x00007FF69D9077C2]\n\t(No symbol) [0x00007FF69D7BDF9D]\n\t(No symbol) [0x00007FF69D7FFF95]\n\t(No symbol) [0x00007FF69D7F5DCF]\n\t(No symbol) [0x00007FF69D81F15A]\n\t(No symbol) [0x00007FF69D7F56E6]\n\t(No symbol) [0x00007FF69D81F370]\n\t(No symbol) [0x00007FF69D837EF2]\n\t(No symbol) [0x00007FF69D81EF33]\n\t(No symbol) [0x00007FF69D7F3D41]\n\t(No symbol) [0x00007FF69D7F4F84]\n\tGetHandleVerifier [0x00007FF69DCFB762+3609346]\n\tGetHandleVerifier [0x00007FF69DD51A80+3962400]\n\tGetHandleVerifier [0x00007FF69DD49F0F+3930799]\n\tGetHandleVerifier [0x00007FF69DA33CA6+694342]\n\t(No symbol) [0x00007FF69D912218]\n\t(No symbol) [0x00007FF69D90E484]\n\t(No symbol) [0x00007FF69D90E5B2]\n\t(No symbol) [0x00007FF69D8FEE13]\n\tBaseThreadInitThunk [0x00007FF8CFDD257D+29]\n\tRtlUserThreadStart [0x00007FF8D0F8AA78+40]\n",
     "output_type": "error",
     "traceback": [
      "\u001b[1;31m---------------------------------------------------------------------------\u001b[0m",
      "\u001b[1;31mElementNotInteractableException\u001b[0m           Traceback (most recent call last)",
      "\u001b[1;32md:\\Lucas Ribeiro\\Profissional\\Aprender\\estudos_python\\busca_precos\\busca_preco.ipynb Célula 5\u001b[0m line \u001b[0;36m7\n\u001b[0;32m      <a href='vscode-notebook-cell:/d%3A/Lucas%20Ribeiro/Profissional/Aprender/estudos_python/busca_precos/busca_preco.ipynb#W6sZmlsZQ%3D%3D?line=4'>5</a>\u001b[0m \u001b[39m# redefinir para limpar os campos de data\u001b[39;00m\n\u001b[0;32m      <a href='vscode-notebook-cell:/d%3A/Lucas%20Ribeiro/Profissional/Aprender/estudos_python/busca_precos/busca_preco.ipynb#W6sZmlsZQ%3D%3D?line=5'>6</a>\u001b[0m chrome\u001b[39m.\u001b[39msave_screenshot(\u001b[39m\"\u001b[39m\u001b[39mimage.png\u001b[39m\u001b[39m\"\u001b[39m)\n\u001b[1;32m----> <a href='vscode-notebook-cell:/d%3A/Lucas%20Ribeiro/Profissional/Aprender/estudos_python/busca_precos/busca_preco.ipynb#W6sZmlsZQ%3D%3D?line=6'>7</a>\u001b[0m chrome\u001b[39m.\u001b[39mfind_element(\u001b[39m'\u001b[39m\u001b[39mxpath\u001b[39m\u001b[39m'\u001b[39m, \u001b[39m'\u001b[39m\u001b[39m//div[2]/div/div[2]/div[1]/div[2]/div[2]/button/span\u001b[39m\u001b[39m'\u001b[39m)\u001b[39m.\u001b[39mclick()    \n\u001b[0;32m      <a href='vscode-notebook-cell:/d%3A/Lucas%20Ribeiro/Profissional/Aprender/estudos_python/busca_precos/busca_preco.ipynb#W6sZmlsZQ%3D%3D?line=7'>8</a>\u001b[0m \u001b[39m# escrever a data inicial\u001b[39;00m\n\u001b[0;32m      <a href='vscode-notebook-cell:/d%3A/Lucas%20Ribeiro/Profissional/Aprender/estudos_python/busca_precos/busca_preco.ipynb#W6sZmlsZQ%3D%3D?line=8'>9</a>\u001b[0m chrome\u001b[39m.\u001b[39mfind_element(\u001b[39m'\u001b[39m\u001b[39mxpath\u001b[39m\u001b[39m'\u001b[39m, \u001b[39m'\u001b[39m\u001b[39m//div[2]/div/div[2]/div[1]/div[1]/div[1]/div/input\u001b[39m\u001b[39m'\u001b[39m)\u001b[39m.\u001b[39msend_keys(current_day)\n",
      "File \u001b[1;32m~\\AppData\\Roaming\\Python\\Python311\\site-packages\\selenium\\webdriver\\remote\\webelement.py:93\u001b[0m, in \u001b[0;36mWebElement.click\u001b[1;34m(self)\u001b[0m\n\u001b[0;32m     91\u001b[0m \u001b[39mdef\u001b[39;00m \u001b[39mclick\u001b[39m(\u001b[39mself\u001b[39m) \u001b[39m-\u001b[39m\u001b[39m>\u001b[39m \u001b[39mNone\u001b[39;00m:\n\u001b[0;32m     92\u001b[0m \u001b[39m    \u001b[39m\u001b[39m\"\"\"Clicks the element.\"\"\"\u001b[39;00m\n\u001b[1;32m---> 93\u001b[0m     \u001b[39mself\u001b[39m\u001b[39m.\u001b[39m_execute(Command\u001b[39m.\u001b[39mCLICK_ELEMENT)\n",
      "File \u001b[1;32m~\\AppData\\Roaming\\Python\\Python311\\site-packages\\selenium\\webdriver\\remote\\webelement.py:394\u001b[0m, in \u001b[0;36mWebElement._execute\u001b[1;34m(self, command, params)\u001b[0m\n\u001b[0;32m    392\u001b[0m     params \u001b[39m=\u001b[39m {}\n\u001b[0;32m    393\u001b[0m params[\u001b[39m\"\u001b[39m\u001b[39mid\u001b[39m\u001b[39m\"\u001b[39m] \u001b[39m=\u001b[39m \u001b[39mself\u001b[39m\u001b[39m.\u001b[39m_id\n\u001b[1;32m--> 394\u001b[0m \u001b[39mreturn\u001b[39;00m \u001b[39mself\u001b[39m\u001b[39m.\u001b[39m_parent\u001b[39m.\u001b[39mexecute(command, params)\n",
      "File \u001b[1;32m~\\AppData\\Roaming\\Python\\Python311\\site-packages\\selenium\\webdriver\\remote\\webdriver.py:344\u001b[0m, in \u001b[0;36mWebDriver.execute\u001b[1;34m(self, driver_command, params)\u001b[0m\n\u001b[0;32m    342\u001b[0m response \u001b[39m=\u001b[39m \u001b[39mself\u001b[39m\u001b[39m.\u001b[39mcommand_executor\u001b[39m.\u001b[39mexecute(driver_command, params)\n\u001b[0;32m    343\u001b[0m \u001b[39mif\u001b[39;00m response:\n\u001b[1;32m--> 344\u001b[0m     \u001b[39mself\u001b[39m\u001b[39m.\u001b[39merror_handler\u001b[39m.\u001b[39mcheck_response(response)\n\u001b[0;32m    345\u001b[0m     response[\u001b[39m\"\u001b[39m\u001b[39mvalue\u001b[39m\u001b[39m\"\u001b[39m] \u001b[39m=\u001b[39m \u001b[39mself\u001b[39m\u001b[39m.\u001b[39m_unwrap_value(response\u001b[39m.\u001b[39mget(\u001b[39m\"\u001b[39m\u001b[39mvalue\u001b[39m\u001b[39m\"\u001b[39m, \u001b[39mNone\u001b[39;00m))\n\u001b[0;32m    346\u001b[0m     \u001b[39mreturn\u001b[39;00m response\n",
      "File \u001b[1;32m~\\AppData\\Roaming\\Python\\Python311\\site-packages\\selenium\\webdriver\\remote\\errorhandler.py:229\u001b[0m, in \u001b[0;36mErrorHandler.check_response\u001b[1;34m(self, response)\u001b[0m\n\u001b[0;32m    227\u001b[0m         alert_text \u001b[39m=\u001b[39m value[\u001b[39m\"\u001b[39m\u001b[39malert\u001b[39m\u001b[39m\"\u001b[39m]\u001b[39m.\u001b[39mget(\u001b[39m\"\u001b[39m\u001b[39mtext\u001b[39m\u001b[39m\"\u001b[39m)\n\u001b[0;32m    228\u001b[0m     \u001b[39mraise\u001b[39;00m exception_class(message, screen, stacktrace, alert_text)  \u001b[39m# type: ignore[call-arg]  # mypy is not smart enough here\u001b[39;00m\n\u001b[1;32m--> 229\u001b[0m \u001b[39mraise\u001b[39;00m exception_class(message, screen, stacktrace)\n",
      "\u001b[1;31mElementNotInteractableException\u001b[0m: Message: element not interactable\n  (Session info: headless chrome=117.0.5938.150)\nStacktrace:\n\tGetHandleVerifier [0x00007FF69D997D12+55474]\n\t(No symbol) [0x00007FF69D9077C2]\n\t(No symbol) [0x00007FF69D7BDF9D]\n\t(No symbol) [0x00007FF69D7FFF95]\n\t(No symbol) [0x00007FF69D7F5DCF]\n\t(No symbol) [0x00007FF69D81F15A]\n\t(No symbol) [0x00007FF69D7F56E6]\n\t(No symbol) [0x00007FF69D81F370]\n\t(No symbol) [0x00007FF69D837EF2]\n\t(No symbol) [0x00007FF69D81EF33]\n\t(No symbol) [0x00007FF69D7F3D41]\n\t(No symbol) [0x00007FF69D7F4F84]\n\tGetHandleVerifier [0x00007FF69DCFB762+3609346]\n\tGetHandleVerifier [0x00007FF69DD51A80+3962400]\n\tGetHandleVerifier [0x00007FF69DD49F0F+3930799]\n\tGetHandleVerifier [0x00007FF69DA33CA6+694342]\n\t(No symbol) [0x00007FF69D912218]\n\t(No symbol) [0x00007FF69D90E484]\n\t(No symbol) [0x00007FF69D90E5B2]\n\t(No symbol) [0x00007FF69D8FEE13]\n\tBaseThreadInitThunk [0x00007FF8CFDD257D+29]\n\tRtlUserThreadStart [0x00007FF8D0F8AA78+40]\n"
     ]
    }
   ],
   "source": [
    "current_day = data_inicio\n",
    "for c in range(int(periodo_dias)):\n",
    "    # clicar na data inicial para abrir o painel de seleção ded datas\n",
    "    chrome.find_element('xpath', '//*[@id=\"yDmH0d\"]/c-wiz[2]/div/div[2]/c-wiz/div[1]/c-wiz/div[2]/div[1]/div/div[2]/div[2]/div/div/div[1]/div/div/div[1]/div/div[1]/div/input').click()\n",
    "    # redefinir para limpar os campos de data\n",
    "    chrome.save_screenshot(\"image.png\")\n",
    "    chrome.find_element('xpath', '//div[2]/div/div[2]/div[1]/div[2]/div[2]/button/span').click()    \n",
    "    # escrever a data inicial\n",
    "    chrome.find_element('xpath', '//div[2]/div/div[2]/div[1]/div[1]/div[1]/div/input').send_keys(current_day)\n",
    "    # escrever a data final\n",
    "    chrome.find_element('xpath', '//div[2]/div/div[2]/div[1]/div[1]/div[2]/div/input').send_keys(data_periodo)\n",
    "    # sair do campo da data final para liberar o botão de confirmar\n",
    "    chrome.find_element('xpath', '//div[2]/div/div[2]/div[1]/div[1]/div[2]/div/input').send_keys(Keys.TAB)\n",
    "    # chrome.find_element('xpath', '//div[2]/div/div[2]/div[2]/div/div/div[1]/div/div[5]/div[1]').click()\n",
    "    # clicar no botão confirmar para carregar as informações com as novas datas\n",
    "    # chrome.find_element('xpath', '//div[2]/div/div[3]/div[3]/div/button/span').click()\n",
    "\n",
    "    time.sleep(1)\n",
    "\n",
    "    # coletar todos os preços de passagens exibidos na página\n",
    "    objects = chrome.find_elements('xpath', '//*[@id=\"yDmH0d\"]/c-wiz[2]/div/div[2]/c-wiz/div[1]/c-wiz/div[2]/div[2]/div/ul/li/div/div[2]/div/div[2]/div[6]/div[1]/div[2]/span')\n",
    "    print(f'Preços do dia {current_day}')\n",
    "    for el in objects:\n",
    "        print(el.text)      \n",
    "    \n",
    "    # avançar para o próximo dia\n",
    "    current_day = f'{str(int(current_day[:2]) + 1).zfill(2)}{current_day[2:]}'"
   ]
  },
  {
   "cell_type": "code",
   "execution_count": null,
   "metadata": {},
   "outputs": [],
   "source": [
    "chrome.close()"
   ]
  }
 ],
 "metadata": {
  "kernelspec": {
   "display_name": "Python 3",
   "language": "python",
   "name": "python3"
  },
  "language_info": {
   "codemirror_mode": {
    "name": "ipython",
    "version": 3
   },
   "file_extension": ".py",
   "mimetype": "text/x-python",
   "name": "python",
   "nbconvert_exporter": "python",
   "pygments_lexer": "ipython3",
   "version": "3.11.4"
  }
 },
 "nbformat": 4,
 "nbformat_minor": 2
}
