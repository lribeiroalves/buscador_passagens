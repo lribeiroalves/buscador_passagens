{
 "cells": [
  {
   "cell_type": "code",
   "execution_count": 36,
   "metadata": {},
   "outputs": [],
   "source": [
    "from selenium import webdriver\n",
    "from selenium.webdriver.chrome.options import Options\n",
    "from selenium.webdriver.common.keys import Keys \n",
    "from selenium.webdriver.common.action_chains import ActionChains\n",
    "from datetime import date, timedelta\n",
    "import time\n",
    "import re\n"
   ]
  },
  {
   "cell_type": "code",
   "execution_count": 37,
   "metadata": {},
   "outputs": [],
   "source": [
    "def verifica_data(data: str) -> bool:\n",
    "    dia = data[:2]\n",
    "    mes = data[3:5]\n",
    "    ano = data[-4:]\n",
    "\n",
    "    check = False\n",
    "\n",
    "    # meses com 31 dias\n",
    "    if mes in ['01', '03', '05', '07', '08', '10', '12']:\n",
    "        if int(dia) <= 31:\n",
    "            check = True\n",
    "    # meses com 30 dias\n",
    "    elif mes in ['04', '06', '09', '11']:\n",
    "        if int(dia) <= 30:\n",
    "            check = True\n",
    "    # fevereiro\n",
    "    elif mes == '02':\n",
    "        # testa se é bissexto\n",
    "        if (int(ano) % 4 == 0 and int(ano) % 100 != 0) or int(ano) % 400 == 0:\n",
    "            if int(dia) <= 29:\n",
    "                check = True\n",
    "        else:\n",
    "            if int(dia) <= 28:\n",
    "                check = True\n",
    "    \n",
    "    return check\n"
   ]
  },
  {
   "cell_type": "code",
   "execution_count": 38,
   "metadata": {},
   "outputs": [
    {
     "data": {
      "text/plain": [
       "'Destino da Viagem: Paris'"
      ]
     },
     "metadata": {},
     "output_type": "display_data"
    },
    {
     "data": {
      "text/plain": [
       "'Data inicial da pesquisa: 14/10/2023'"
      ]
     },
     "metadata": {},
     "output_type": "display_data"
    },
    {
     "data": {
      "text/plain": [
       "'Data final da pesquisa: 17/10/2023'"
      ]
     },
     "metadata": {},
     "output_type": "display_data"
    },
    {
     "data": {
      "text/plain": [
       "'Período da viagem: 0'"
      ]
     },
     "metadata": {},
     "output_type": "display_data"
    }
   ],
   "source": [
    "padrao_data = re.compile(r'\\d{2}\\/\\d{2}\\/\\d{4}')\n",
    "\n",
    "while True:\n",
    "    # solicitar ao usuario a cidade de destino da viagem\n",
    "    while True:\n",
    "        destino = input('Qual a cidade de destino da viagem? ').capitalize()\n",
    "        if len(destino) > 0:\n",
    "            break\n",
    "        else:\n",
    "            display('Você precisa digitar o destino da viagem!')\n",
    "\n",
    "    # solicitar ao ususario a data inicial de embarque\n",
    "    while True:\n",
    "        data_inicio = input('Qual a data inicial da pesquisa?(formato: dd/mm/aaaa) ')\n",
    "        if len(re.findall(padrao_data, data_inicio)) > 0:\n",
    "            if verifica_data(data_inicio):\n",
    "                d_ini = date(year=int(data_inicio[-4:]), month=int(data_inicio[3:5]), day=int(data_inicio[:2]))\n",
    "                if d_ini >= date.today():\n",
    "                    break\n",
    "                else:\n",
    "                    display('A data inicial deve ser maior ou igual a data de hoje. Digite novamente.')\n",
    "            else:\n",
    "                display('A data digitada está no formato solicitado, porém não é uma data válida. Digite novamente.')\n",
    "        else:\n",
    "            display('A data digitada não está no formato esperado (dd/mm/aaaa). Digite novamente.')\n",
    "\n",
    "    # solicitar ao usuario a data final de embarque\n",
    "    while True:\n",
    "        data_fim = input('Qual a data final da pesquisa?(formato: dd/mm/aaaa) ')\n",
    "        if len(re.findall(padrao_data, data_fim)) > 0:\n",
    "            if verifica_data(data_fim):\n",
    "                d_fim = date(year=int(data_fim[-4:]), month=int(data_fim[3:5]), day=int(data_fim[:2]))\n",
    "                if d_fim >= d_ini:\n",
    "                    break\n",
    "                else:\n",
    "                    display('A data final não pode ser menor do que a data inicial. Digite novamente.')\n",
    "            else:\n",
    "                display('A data digitada está no formato solicitado, porém não é uma data válida. Digite novamente.')\n",
    "        else:\n",
    "            display('A data digitada não está no formato esperado (dd/mm/aaaa). Digite novamente.')\n",
    "\n",
    "    # solicitar ao usuario o período da viagem em dias\n",
    "    while True:\n",
    "        periodo_dias = input('Digite o numero de dias da viagem? ')\n",
    "        if periodo_dias.isnumeric():\n",
    "            if int(periodo_dias) >= 0:\n",
    "                break\n",
    "            else:\n",
    "                display('O período da viagem deve ser maior ou igual a 0')\n",
    "        else:\n",
    "            display('O período digitado não é válido. Digite novamente.')\n",
    "    \n",
    "    display(f'Destino da Viagem: {destino}')\n",
    "    display(f'Data inicial da pesquisa: {data_inicio}')\n",
    "    display(f'Data final da pesquisa: {data_fim}')\n",
    "    display(f'Período da viagem: {periodo_dias}')\n",
    "\n",
    "    confirmacao = ' '\n",
    "    while confirmacao not in 'NS':\n",
    "        confirmacao = input('Você confirma as informações inserida e quer continuar com a busca? [S/N] ').upper()\n",
    "    if confirmacao == 'S':\n",
    "        break\n"
   ]
  },
  {
   "cell_type": "code",
   "execution_count": 51,
   "metadata": {},
   "outputs": [],
   "source": [
    "options_chrome = Options()\n",
    "options_chrome.add_argument('--window-size=1920,1080')\n",
    "options_chrome.add_argument('--incognito')\n",
    "options_chrome.add_argument('--headless')\n",
    "# options_chrome.add_experimental_option('prefs', {'intl.accept_languages': 'pt,pt_BR'})"
   ]
  },
  {
   "cell_type": "code",
   "execution_count": 52,
   "metadata": {},
   "outputs": [],
   "source": [
    "chrome = webdriver.Chrome(options=options_chrome)\n",
    "chrome.maximize_window()\n",
    "chrome.implicitly_wait(5)\n",
    "# chrome.get('https://www.google.com/travel/flights?tfs=CBwQARoJagcIARIDR1JVGglyBwgBEgNHUlVAAUgBcAGCAQsI____________AZgBAQ&tfu=KgIIAw')\n",
    "chrome.get('https://www.google.com/travel/flights/search?tfs=CBwQAhojEgoyMDI0LTAyLTAxagcIARIDR1JVcgwIAxIIL20vMDVxdGoaIxIKMjAyNC0wMi0wOGoMCAMSCC9tLzA1cXRqcgcIARIDR1JVQAFIAXABggELCP___________wGYAQE&tfu=KgA')\n",
    "actions = ActionChains(chrome)\n"
   ]
  },
  {
   "cell_type": "code",
   "execution_count": 53,
   "metadata": {},
   "outputs": [],
   "source": [
    "caixa_destino = chrome.find_element('xpath', '//*[@id=\"i21\"]/div[4]/div/div/div[1]/div/div/input')\n",
    "caixa_destino.clear()\n",
    "caixa_destino.send_keys(destino)\n",
    "time.sleep(1)\n",
    "actions.send_keys(Keys.ENTER)\n",
    "actions.perform()\n",
    "time.sleep(1)\n",
    "# chrome.find_element('xpath', '//*[@id=\"c57\"]').click()"
   ]
  },
  {
   "cell_type": "code",
   "execution_count": 54,
   "metadata": {},
   "outputs": [],
   "source": [
    "def coleta_dados(c_day: date, p: int) -> None:\n",
    "    if '--headless' in options_chrome.arguments:\n",
    "        pass\n",
    "        # escrever a data de embarque\n",
    "        chrome.find_element('xpath', '//*[@id=\"yDmH0d\"]/c-wiz[2]/div/div[2]/c-wiz/div[1]/c-wiz/div[2]/div[1]/div/div[2]/div[2]/div/div/div[1]/div/div/div[1]/div/div[1]/div/input').send_keys(Keys.BACK_SPACE * 30)\n",
    "        chrome.find_element('xpath', '//*[@id=\"yDmH0d\"]/c-wiz[2]/div/div[2]/c-wiz/div[1]/c-wiz/div[2]/div[1]/div/div[2]/div[2]/div/div/div[1]/div/div/div[1]/div/div[1]/div/input').send_keys(f'{str(c_day.month).zfill(2)}/{str(c_day.day).zfill(2)}/{str(c_day.year)}')\n",
    "        # escrever a data de retorno\n",
    "        chrome.find_element('xpath', '//*[@id=\"yDmH0d\"]/c-wiz[2]/div/div[2]/c-wiz/div[1]/c-wiz/div[2]/div[1]/div/div[2]/div[2]/div/div/div[1]/div/div/div[1]/div/div[2]/div/input').send_keys(Keys.BACK_SPACE * 30)\n",
    "        data_periodo = c_day + timedelta(days=p)\n",
    "        chrome.find_element('xpath', '//*[@id=\"yDmH0d\"]/c-wiz[2]/div/div[2]/c-wiz/div[1]/c-wiz/div[2]/div[1]/div/div[2]/div[2]/div/div/div[1]/div/div/div[1]/div/div[2]/div/input').send_keys(f'{str(data_periodo.month).zfill(2)}/{str(data_periodo.day).zfill(2)}/{str(data_periodo.year)}')\n",
    "        # sair do campo da data de retorno\n",
    "        chrome.find_element('xpath', '//*[@id=\"yDmH0d\"]/c-wiz[2]/div/div[2]/c-wiz/div[1]/c-wiz/div[2]/div[1]/div/div[2]/div[2]/div/div/div[1]/div/div/div[1]/div/div[2]/div/input').send_keys(Keys.TAB)\n",
    "    else:\n",
    "        # clicar na data de embarque para abrir o painel de seleção de datas\n",
    "        chrome.find_element('xpath', '//*[@id=\"yDmH0d\"]/c-wiz[2]/div/div[2]/c-wiz/div[1]/c-wiz/div[2]/div[1]/div/div[2]/div[2]/div/div/div[1]/div/div/div[1]/div/div[1]/div/input').click()\n",
    "        # redefinir para limpar os campos de data\n",
    "        chrome.find_element('xpath', '//div[2]/div/div[2]/div[1]/div[2]/div[2]/button/span').click()\n",
    "        # escrever a data de embarque\n",
    "        chrome.find_element('xpath', '//div[2]/div/div[2]/div[1]/div[1]/div[1]/div/input').send_keys(f'{str(c_day.day).zfill(2)}/{str(c_day.month).zfill(2)}/{str(c_day.year)}')\n",
    "        # escrever a data de retorno\n",
    "        data_periodo = c_day + timedelta(days=p)\n",
    "        chrome.find_element('xpath', '//div[2]/div/div[2]/div[1]/div[1]/div[2]/div/input').send_keys(f'{str(data_periodo.day).zfill(2)}/{str(data_periodo.month).zfill(2)}/{str(data_periodo.year)}')\n",
    "        # sair do campo da data de retorno para liberar o botão de confirmar\n",
    "        chrome.find_element('xpath', '//div[2]/div/div[2]/div[1]/div[1]/div[2]/div/input').send_keys(Keys.TAB)\n",
    "\n",
    "    time.sleep(1)\n",
    "    # chrome.save_screenshot(f'imagens/image{c_day.day}-{data_periodo.day}.png')\n",
    "\n",
    "    # coletar todos os preços de passagens exibidos na página\n",
    "    objects = chrome.find_elements('xpath', '//*[@id=\"yDmH0d\"]/c-wiz[2]/div/div[2]/c-wiz/div[1]/c-wiz/div[2]/div[2]/div/ul/li/div/div[2]/div/div[2]/div[6]/div[1]/div[2]/span')\n",
    "    print(f'Preços para viagem de {p} dias:')\n",
    "    print(f'Dia de embarque {str(c_day.day).zfill(2)}/{str(c_day.month).zfill(2)}/{c_day.year}', end=' - ')\n",
    "    print(f'Dia de retorno {str(data_periodo.day).zfill(2)}/{str(data_periodo.month).zfill(2)}/{data_periodo.year}', end='\\n'*2)\n",
    "    \n",
    "    for el in objects:\n",
    "        print(el.text)\n",
    "    print(end='\\n')\n",
    "    \n",
    "        "
   ]
  },
  {
   "cell_type": "code",
   "execution_count": 55,
   "metadata": {},
   "outputs": [
    {
     "name": "stdout",
     "output_type": "stream",
     "text": [
      "Preços de Passagens para Paris:\n",
      "\n",
      "Preços para viagem de 0 dias:\n",
      "Dia de embarque 14/10/2023 - Dia de retorno 14/10/2023\n",
      "\n",
      "R$4,697\n",
      "R$4,858\n",
      "R$4,935\n",
      "R$5,135\n",
      "R$5,135\n",
      "R$4,565\n",
      "R$4,718\n",
      "R$4,935\n",
      "R$4,949\n",
      "R$5,062\n",
      "R$6,826\n",
      "\n",
      "Preços para viagem de 1 dias:\n",
      "Dia de embarque 14/10/2023 - Dia de retorno 15/10/2023\n",
      "\n",
      "R$7,128\n",
      "R$10,577\n",
      "R$11,226\n",
      "R$14,386\n",
      "R$12,480\n",
      "R$13,327\n",
      "R$13,968\n",
      "R$14,065\n",
      "R$16,785\n",
      "\n",
      "Preços para viagem de 0 dias:\n",
      "Dia de embarque 15/10/2023 - Dia de retorno 15/10/2023\n",
      "\n",
      "R$9,768\n",
      "\n",
      "Preços para viagem de 1 dias:\n",
      "Dia de embarque 15/10/2023 - Dia de retorno 16/10/2023\n",
      "\n",
      "R$6,905\n",
      "R$6,905\n",
      "R$9,307\n",
      "R$9,654\n",
      "R$10,457\n",
      "R$12,366\n",
      "R$12,616\n",
      "R$14,386\n",
      "R$14,386\n",
      "R$17,542\n",
      "\n",
      "Preços para viagem de 0 dias:\n",
      "Dia de embarque 16/10/2023 - Dia de retorno 16/10/2023\n",
      "\n",
      "R$9,260\n",
      "\n",
      "Preços para viagem de 1 dias:\n",
      "Dia de embarque 16/10/2023 - Dia de retorno 17/10/2023\n",
      "\n",
      "R$6,748\n",
      "R$6,748\n",
      "R$8,016\n",
      "R$7,266\n",
      "R$7,970\n",
      "R$8,374\n",
      "R$9,028\n",
      "R$11,264\n",
      "R$11,264\n",
      "\n",
      "Preços para viagem de 0 dias:\n",
      "Dia de embarque 17/10/2023 - Dia de retorno 17/10/2023\n",
      "\n",
      "R$8,848\n",
      "\n",
      "Preços para viagem de 1 dias:\n",
      "Dia de embarque 17/10/2023 - Dia de retorno 18/10/2023\n",
      "\n",
      "R$6,905\n",
      "R$6,905\n",
      "R$6,905\n",
      "R$7,963\n",
      "R$8,137\n",
      "R$8,777\n",
      "R$11,264\n",
      "R$11,264\n",
      "\n"
     ]
    }
   ],
   "source": [
    "print(f'Preços de Passagens para {destino}:', end='\\n'*2)\n",
    "\n",
    "current_day = d_ini\n",
    "while current_day <= d_fim:\n",
    "    for i in [-1, 0, 1]:\n",
    "        if periodo_dias == '0' and i == -1:\n",
    "            continue\n",
    "        coleta_dados(current_day, int(periodo_dias) + i)\n",
    "        \n",
    "    # avançar para o próximo dia\n",
    "    current_day += timedelta(days=1)"
   ]
  },
  {
   "cell_type": "code",
   "execution_count": 56,
   "metadata": {},
   "outputs": [],
   "source": [
    "chrome.close()"
   ]
  }
 ],
 "metadata": {
  "kernelspec": {
   "display_name": "Python 3",
   "language": "python",
   "name": "python3"
  },
  "language_info": {
   "codemirror_mode": {
    "name": "ipython",
    "version": 3
   },
   "file_extension": ".py",
   "mimetype": "text/x-python",
   "name": "python",
   "nbconvert_exporter": "python",
   "pygments_lexer": "ipython3",
   "version": "3.11.4"
  }
 },
 "nbformat": 4,
 "nbformat_minor": 2
}
