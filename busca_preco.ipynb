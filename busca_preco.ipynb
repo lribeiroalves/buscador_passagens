{
 "cells": [
  {
   "cell_type": "markdown",
   "metadata": {},
   "source": [
    "__CONTINUAÇÃO: TRABALHAR COM AS DATAS PARA USAR MODO YYYY/MM/DD__"
   ]
  },
  {
   "cell_type": "code",
   "execution_count": 79,
   "metadata": {},
   "outputs": [],
   "source": [
    "from selenium import webdriver\n",
    "from selenium.webdriver.chrome.options import Options\n",
    "from selenium.webdriver.common.keys import Keys \n",
    "from selenium.webdriver.common.action_chains import ActionChains\n",
    "import time"
   ]
  },
  {
   "cell_type": "code",
   "execution_count": 80,
   "metadata": {},
   "outputs": [],
   "source": [
    "destino = 'Londres'\n",
    "data_inicio = '01/02/2024'\n",
    "data_fim = '01/02/2024'\n",
    "periodo_dias = '7'\n",
    "\n",
    "# destino = input('Qual o destino da viagem? ')\n",
    "# data_inicio = input('Qual a primeira data? ')\n",
    "# data_fim = input('Qual a data final? ')\n",
    "# periodo_dias = input('Qual o tempo da viagem? ')\n",
    "data_periodo = f'{str(int(data_inicio[:2]) + int(periodo_dias)).zfill(2)}{data_inicio[2:]}'\n",
    "current_day = data_inicio"
   ]
  },
  {
   "cell_type": "code",
   "execution_count": 81,
   "metadata": {},
   "outputs": [],
   "source": [
    "options_chrome = Options()\n",
    "options_chrome.add_argument('--window-size=1920,1080')\n",
    "options_chrome.add_argument('--incognito')\n",
    "options_chrome.add_argument('--headless')\n",
    "# options_chrome.add_experimental_option('prefs', {'intl.accept_languages': 'pt,pt_BR'})"
   ]
  },
  {
   "cell_type": "code",
   "execution_count": 82,
   "metadata": {},
   "outputs": [],
   "source": [
    "chrome = webdriver.Chrome(options=options_chrome)\n",
    "chrome.maximize_window()\n",
    "chrome.implicitly_wait(5)\n",
    "# chrome.get('https://www.google.com/travel/flights?tfs=CBwQARoJagcIARIDR1JVGglyBwgBEgNHUlVAAUgBcAGCAQsI____________AZgBAQ&tfu=KgIIAw')\n",
    "chrome.get('https://www.google.com/travel/flights/search?tfs=CBwQAhojEgoyMDI0LTAyLTAxagcIARIDR1JVcgwIAxIIL20vMDVxdGoaIxIKMjAyNC0wMi0wOGoMCAMSCC9tLzA1cXRqcgcIARIDR1JVQAFIAXABggELCP___________wGYAQE&tfu=KgA')\n",
    "actions = ActionChains(chrome)\n"
   ]
  },
  {
   "cell_type": "code",
   "execution_count": 83,
   "metadata": {},
   "outputs": [],
   "source": [
    "caixa_destino = chrome.find_element('xpath', '//*[@id=\"i21\"]/div[4]/div/div/div[1]/div/div/input')\n",
    "caixa_destino.clear()\n",
    "caixa_destino.send_keys(destino)\n",
    "time.sleep(1)\n",
    "actions.send_keys(Keys.ENTER)\n",
    "actions.perform()\n",
    "# chrome.find_element('xpath', '//*[@id=\"c57\"]').click()"
   ]
  },
  {
   "cell_type": "code",
   "execution_count": null,
   "metadata": {},
   "outputs": [],
   "source": [
    "for c in range(3):\n",
    "    if '--headless' in options_chrome.arguments:\n",
    "        pass\n",
    "        # escrever a data inicial\n",
    "        chrome.find_element('xpath', '//*[@id=\"yDmH0d\"]/c-wiz[2]/div/div[2]/c-wiz/div[1]/c-wiz/div[2]/div[1]/div/div[2]/div[2]/div/div/div[1]/div/div/div[1]/div/div[1]/div/input').send_keys(Keys.BACK_SPACE * 20)\n",
    "        chrome.find_element('xpath', '//*[@id=\"yDmH0d\"]/c-wiz[2]/div/div[2]/c-wiz/div[1]/c-wiz/div[2]/div[1]/div/div[2]/div[2]/div/div/div[1]/div/div/div[1]/div/div[1]/div/input').send_keys(current_day)\n",
    "        # escrever a data final\n",
    "        chrome.find_element('xpath', '//*[@id=\"yDmH0d\"]/c-wiz[2]/div/div[2]/c-wiz/div[1]/c-wiz/div[2]/div[1]/div/div[2]/div[2]/div/div/div[1]/div/div/div[1]/div/div[2]/div/input').send_keys(Keys.BACK_SPACE * 20)\n",
    "        chrome.find_element('xpath', '//*[@id=\"yDmH0d\"]/c-wiz[2]/div/div[2]/c-wiz/div[1]/c-wiz/div[2]/div[1]/div/div[2]/div[2]/div/div/div[1]/div/div/div[1]/div/div[2]/div/input').send_keys(data_periodo)\n",
    "        # sair do campo da data final\n",
    "        chrome.find_element('xpath', '//*[@id=\"yDmH0d\"]/c-wiz[2]/div/div[2]/c-wiz/div[1]/c-wiz/div[2]/div[1]/div/div[2]/div[2]/div/div/div[1]/div/div/div[1]/div/div[2]/div/input').send_keys(Keys.TAB)\n",
    "        # avançar para o próximo dia\n",
    "        current_day = f'{current_day[:7]}{str(int(current_day[8:10]) + 1).zfill(2)}{current_day[2:]}'\n",
    "        data_periodo = f'{str(int(current_day[:2]) + int(periodo_dias)).zfill(2)}{current_day[2:]}'\n",
    "    else:\n",
    "        # clicar na data inicial para abrir o painel de seleção de datas\n",
    "        chrome.find_element('xpath', '//*[@id=\"yDmH0d\"]/c-wiz[2]/div/div[2]/c-wiz/div[1]/c-wiz/div[2]/div[1]/div/div[2]/div[2]/div/div/div[1]/div/div/div[1]/div/div[1]/div/input').click()\n",
    "        # redefinir para limpar os campos de data\n",
    "        chrome.find_element('xpath', '//div[2]/div/div[2]/div[1]/div[2]/div[2]/button/span').click()    \n",
    "        # escrever a data inicial\n",
    "        chrome.find_element('xpath', '//div[2]/div/div[2]/div[1]/div[1]/div[1]/div/input').send_keys(current_day)\n",
    "        # escrever a data final\n",
    "        chrome.find_element('xpath', '//div[2]/div/div[2]/div[1]/div[1]/div[2]/div/input').send_keys(data_periodo)\n",
    "        # sair do campo da data final para liberar o botão de confirmar\n",
    "        chrome.find_element('xpath', '//div[2]/div/div[2]/div[1]/div[1]/div[2]/div/input').send_keys(Keys.TAB)\n",
    "        # avançar para o próximo dia\n",
    "        current_day = f'{str(int(current_day[:2]) + 1).zfill(2)}{current_day[2:]}'\n",
    "        data_periodo = f'{str(int(current_day[:2]) + int(periodo_dias)).zfill(2)}{current_day[2:]}'\n",
    "\n",
    "    time.sleep(1)\n",
    "    chrome.save_screenshot(f'image{c}.png')\n",
    "\n",
    "    # coletar todos os preços de passagens exibidos na página\n",
    "    objects = chrome.find_elements('xpath', '//*[@id=\"yDmH0d\"]/c-wiz[2]/div/div[2]/c-wiz/div[1]/c-wiz/div[2]/div[2]/div/ul/li/div/div[2]/div/div[2]/div[6]/div[1]/div[2]/span')\n",
    "    print(f'Preços do dia {current_day}')\n",
    "    for el in objects:\n",
    "        print(el.text)\n",
    "    "
   ]
  },
  {
   "cell_type": "code",
   "execution_count": 85,
   "metadata": {},
   "outputs": [],
   "source": [
    "# current_day = data_inicio\n",
    "# for c in range(3):\n",
    "#     # clicar na data inicial para abrir o painel de seleção ded datas\n",
    "#     chrome.find_element('xpath', '//*[@id=\"yDmH0d\"]/c-wiz[2]/div/div[2]/c-wiz/div[1]/c-wiz/div[2]/div[1]/div/div[2]/div[2]/div/div/div[1]/div/div/div[1]/div/div[1]/div/input').click()\n",
    "#     # redefinir para limpar os campos de data\n",
    "#     chrome.save_screenshot(\"image.png\")\n",
    "#     chrome.find_element('xpath', '//div[2]/div/div[2]/div[1]/div[2]/div[2]/button/span').click()    \n",
    "#     # escrever a data inicial\n",
    "#     chrome.find_element('xpath', '//div[2]/div/div[2]/div[1]/div[1]/div[1]/div/input').send_keys(current_day)\n",
    "#     # escrever a data final\n",
    "#     chrome.find_element('xpath', '//div[2]/div/div[2]/div[1]/div[1]/div[2]/div/input').send_keys(data_periodo)\n",
    "#     # sair do campo da data final para liberar o botão de confirmar\n",
    "#     chrome.find_element('xpath', '//div[2]/div/div[2]/div[1]/div[1]/div[2]/div/input').send_keys(Keys.TAB)\n",
    "#     # chrome.find_element('xpath', '//div[2]/div/div[2]/div[2]/div/div/div[1]/div/div[5]/div[1]').click()\n",
    "#     # clicar no botão confirmar para carregar as informações com as novas datas\n",
    "#     # chrome.find_element('xpath', '//div[2]/div/div[3]/div[3]/div/button/span').click()\n",
    "\n",
    "#     time.sleep(1)\n",
    "\n",
    "#     # coletar todos os preços de passagens exibidos na página\n",
    "#     objects = chrome.find_elements('xpath', '//*[@id=\"yDmH0d\"]/c-wiz[2]/div/div[2]/c-wiz/div[1]/c-wiz/div[2]/div[2]/div/ul/li/div/div[2]/div/div[2]/div[6]/div[1]/div[2]/span')\n",
    "#     print(f'Preços do dia {current_day}')\n",
    "#     for el in objects:\n",
    "#         print(el.text)      \n",
    "    \n",
    "#     # avançar para o próximo dia\n",
    "#     current_day = f'{str(int(current_day[:2]) + 1).zfill(2)}{current_day[2:]}'"
   ]
  },
  {
   "cell_type": "code",
   "execution_count": 86,
   "metadata": {},
   "outputs": [],
   "source": [
    "chrome.close()"
   ]
  }
 ],
 "metadata": {
  "kernelspec": {
   "display_name": "Python 3",
   "language": "python",
   "name": "python3"
  },
  "language_info": {
   "codemirror_mode": {
    "name": "ipython",
    "version": 3
   },
   "file_extension": ".py",
   "mimetype": "text/x-python",
   "name": "python",
   "nbconvert_exporter": "python",
   "pygments_lexer": "ipython3",
   "version": "3.11.4"
  }
 },
 "nbformat": 4,
 "nbformat_minor": 2
}
