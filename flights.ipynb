{
 "cells": [
  {
   "cell_type": "code",
   "execution_count": 44,
   "metadata": {},
   "outputs": [],
   "source": [
    "# importar as bibliotecas\n",
    "\n",
    "from selenium import webdriver\n",
    "from selenium.webdriver.common.keys import Keys\n",
    "import time\n",
    "import pandas as pd"
   ]
  },
  {
   "cell_type": "code",
   "execution_count": 74,
   "metadata": {},
   "outputs": [],
   "source": [
    "# Definir opções e criar o navegador\n",
    "\n",
    "options = webdriver.ChromeOptions()\n",
    "options.add_argument('--incognito')\n",
    "options.add_argument(\"--window-size=1920,1080\")\n",
    "options.add_argument('--headless')\n",
    "\n",
    "nav = webdriver.Chrome(options = options)\n",
    "nav.get('https://www.google.com/travel/flights')"
   ]
  },
  {
   "cell_type": "code",
   "execution_count": 75,
   "metadata": {},
   "outputs": [],
   "source": [
    "# Aeroporto de origem\n",
    "# aeroporto_origem = nav.find_element('xpath', '//*[@id=\"i23\"]/div[1]/div/div/div[1]/div/div/input')\n",
    "aeroporto_origem = nav.find_element('xpath', '//*[@data-placeholder=\"De onde?\"]/div/div/div/div/input')\n",
    "aeroporto_origem.send_keys(Keys.BACK_SPACE * 300)\n",
    "aeroporto_origem.send_keys('GRU')\n",
    "time.sleep(1)\n",
    "# lista_aeroportos = nav.find_elements('xpath', '//*[@id=\"h0T7hb-12\"]/ul/li')\n",
    "lista_aeroportos = nav.find_elements('xpath', '//*[@aria-label=\"Informe sua origem\"]/div/ul/li')\n",
    "lista_aeroportos[0].click()\n",
    "\n",
    "time.sleep(1)\n",
    "\n",
    "# Aeroporto de Destino\n",
    "# aeroporto_destino = nav.find_element('xpath', '//*[@id=\"i23\"]/div[4]/div/div/div[1]/div/div/input')\n",
    "aeroporto_destino = nav.find_element('xpath', '//*[@data-placeholder=\"Para onde?\"]/div/div/div/div/input')\n",
    "aeroporto_destino.send_keys(Keys.BACK_SPACE * 300)\n",
    "aeroporto_destino.send_keys('NVT')\n",
    "time.sleep(1)\n",
    "# lista_aeroportos = nav.find_elements('xpath', '//*[@id=\"h0T7hb-16\"]/ul/li')\n",
    "lista_aeroportos = nav.find_elements('xpath', '//*[@aria-label=\"Digite seu destino\"]/div/ul/li')\n",
    "lista_aeroportos[0].click()\n",
    "\n",
    "time.sleep(1)"
   ]
  },
  {
   "cell_type": "code",
   "execution_count": 76,
   "metadata": {},
   "outputs": [],
   "source": [
    "# Data de inicio\n",
    "# data_inicio = nav.find_element('xpath', '//*[@id=\"yDmH0d\"]/c-wiz[2]/div/div[2]/c-wiz/div[1]/c-wiz/div[2]/div[1]/div[1]/div[1]/div/div[2]/div[2]/div/div/div[1]/div/div/div[1]/div/div[1]/div/input')\n",
    "data_inicio = nav.find_element('xpath', '//div/input[@placeholder=\"Partida\"]')\n",
    "data_inicio.send_keys(Keys.BACK_SPACE * 300)\n",
    "data_inicio.send_keys('10/08/25')\n",
    "data_inicio.send_keys(Keys.TAB)\n",
    "\n",
    "time.sleep(1)\n",
    "\n",
    "# Data do final\n",
    "# data_final = nav.find_element('xpath', '//*[@id=\"yDmH0d\"]/c-wiz[2]/div/div[2]/c-wiz/div[1]/c-wiz/div[2]/div[1]/div[1]/div[1]/div/div[2]/div[2]/div/div/div[1]/div/div/div[1]/div/div[2]/div/input')\n",
    "data_final = nav.find_element('xpath', '//div/input[@placeholder=\"Volta\"]')\n",
    "data_final.send_keys(Keys.BACK_SPACE * 300)\n",
    "data_final.send_keys('15/08/25')\n",
    "data_final.send_keys(Keys.TAB)\n",
    "\n",
    "time.sleep(1)"
   ]
  },
  {
   "cell_type": "code",
   "execution_count": 77,
   "metadata": {},
   "outputs": [],
   "source": [
    "# Pesquisar\n",
    "# search = nav.find_element('xpath', '//*[@id=\"yDmH0d\"]/c-wiz[2]/div/div[2]/c-wiz/div[1]/c-wiz/div[2]/div[1]/div[1]/div[2]/div/button/span[2]')\n",
    "search = nav.find_element('xpath', '//button[@aria-label=\"Pesquisar\"]/span[text()=\"Pesquisar\"]')\n",
    "search.click()\n",
    "\n",
    "time.sleep(5)\n",
    "\n",
    "# mostrar todos os voos\n",
    "# nav.find_element('xpath', '//*[@id=\"yDmH0d\"]/c-wiz[2]/div/div[2]/c-wiz/div[1]/c-wiz/div[2]/div[2]/div[2]/div/div[2]/div[4]/ul/li/div/span[1]/div/button/div[3]').click()\n",
    "try:\n",
    "    nav.find_element('xpath', '//div[span=\"Mostrar mais voos\"]').click()\n",
    "except:\n",
    "    print('Não há mais voos')\n",
    "\n",
    "time.sleep(2)"
   ]
  },
  {
   "cell_type": "code",
   "execution_count": 78,
   "metadata": {},
   "outputs": [],
   "source": [
    "# Extrair os preços das passagens\n",
    "\n",
    "# precos = nav.find_elements('xpath', '//div/div[2]/div/div[2]/div/div[6]/div[1]/div[2]/span')\n",
    "precos = nav.find_elements('xpath', '//div[div[contains(@aria-label, \"Selecionar voo\")]]/div[2]/div[1]/div[2]/div[1]/div[6]/div[1]/div[2]/span')\n",
    "precos_tratados = []\n",
    "precos_erro = []\n",
    "\n",
    "for preco in precos:\n",
    "    try:\n",
    "        p = int(preco.text.replace('R$', '').replace('.', '').strip())\n",
    "        precos_tratados.append(p)\n",
    "    except:\n",
    "        precos_erro.append(preco)"
   ]
  },
  {
   "cell_type": "code",
   "execution_count": 79,
   "metadata": {},
   "outputs": [
    {
     "name": "stdout",
     "output_type": "stream",
     "text": [
      "https://www.google.com/travel/flights/search?tfs=CBwQAhoeEgoyMDI1LTA4LTEwagcIARIDR1JVcgcIARIDTlZUGh4SCjIwMjUtMDgtMTVqBwgBEgNOVlRyBwgBEgNHUlVAAUgBcAGCAQsI____________AZgBAQ&tfu=EgYIABABGAA\n"
     ]
    }
   ],
   "source": [
    "print(nav.current_url)\n",
    "\n",
    "nav.close()"
   ]
  },
  {
   "cell_type": "code",
   "execution_count": 80,
   "metadata": {},
   "outputs": [
    {
     "name": "stdout",
     "output_type": "stream",
     "text": [
      "12\n",
      "12\n"
     ]
    }
   ],
   "source": [
    "print(len(precos_tratados))\n",
    "print(len(precos_erro))"
   ]
  }
 ],
 "metadata": {
  "kernelspec": {
   "display_name": "Python 3",
   "language": "python",
   "name": "python3"
  },
  "language_info": {
   "codemirror_mode": {
    "name": "ipython",
    "version": 3
   },
   "file_extension": ".py",
   "mimetype": "text/x-python",
   "name": "python",
   "nbconvert_exporter": "python",
   "pygments_lexer": "ipython3",
   "version": "3.13.2"
  }
 },
 "nbformat": 4,
 "nbformat_minor": 2
}
